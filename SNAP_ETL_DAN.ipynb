{
 "cells": [
  {
   "cell_type": "code",
   "execution_count": 1,
   "metadata": {},
   "outputs": [],
   "source": [
    "# load the dependencies\n",
    "import pandas as pd\n",
    "from sqlalchemy import create_engine\n",
    "import os\n",
    "import sys\n",
    "os.getcwd()\n",
    "sys.path.append(\"C:/SQL_PW/\")\n",
    "import config\n",
    "\n",
    "\n"
   ]
  },
  {
   "cell_type": "code",
   "execution_count": 2,
   "metadata": {},
   "outputs": [
    {
     "name": "stdout",
     "output_type": "stream",
     "text": [
      "<module 'config' from 'C:/SQL_PW\\\\config.py'>\n"
     ]
    }
   ],
   "source": [
    "print(config)"
   ]
  },
  {
   "cell_type": "code",
   "execution_count": 3,
   "metadata": {},
   "outputs": [
    {
     "data": {
      "text/html": [
       "<div>\n",
       "<style scoped>\n",
       "    .dataframe tbody tr th:only-of-type {\n",
       "        vertical-align: middle;\n",
       "    }\n",
       "\n",
       "    .dataframe tbody tr th {\n",
       "        vertical-align: top;\n",
       "    }\n",
       "\n",
       "    .dataframe thead th {\n",
       "        text-align: right;\n",
       "    }\n",
       "</style>\n",
       "<table border=\"1\" class=\"dataframe\">\n",
       "  <thead>\n",
       "    <tr style=\"text-align: right;\">\n",
       "      <th></th>\n",
       "      <th>STORE_NAME</th>\n",
       "      <th>longitude</th>\n",
       "      <th>latitude</th>\n",
       "      <th>ADDRESS</th>\n",
       "      <th>ADDRESS2</th>\n",
       "      <th>CITY</th>\n",
       "      <th>STATE</th>\n",
       "      <th>ZIP5</th>\n",
       "      <th>zip4</th>\n",
       "      <th>County</th>\n",
       "      <th>Unnamed: 10</th>\n",
       "    </tr>\n",
       "  </thead>\n",
       "  <tbody>\n",
       "    <tr>\n",
       "      <th>0</th>\n",
       "      <td>Food Lion 2213</td>\n",
       "      <td>-80.865814</td>\n",
       "      <td>35.594765</td>\n",
       "      <td>516-10 RIVER HWY</td>\n",
       "      <td>NaN</td>\n",
       "      <td>MOORESVILLE</td>\n",
       "      <td>NC</td>\n",
       "      <td>28117</td>\n",
       "      <td>NaN</td>\n",
       "      <td>IREDELL</td>\n",
       "      <td>NaN</td>\n",
       "    </tr>\n",
       "    <tr>\n",
       "      <th>1</th>\n",
       "      <td>FISH WING</td>\n",
       "      <td>-80.882446</td>\n",
       "      <td>35.216393</td>\n",
       "      <td>1501 West Blvd</td>\n",
       "      <td>Ste G</td>\n",
       "      <td>Charlotte</td>\n",
       "      <td>NC</td>\n",
       "      <td>28208</td>\n",
       "      <td>7076.0</td>\n",
       "      <td>MECKLENBURG</td>\n",
       "      <td>NaN</td>\n",
       "    </tr>\n",
       "    <tr>\n",
       "      <th>2</th>\n",
       "      <td>SUPERIOR GROCERIES</td>\n",
       "      <td>-79.808388</td>\n",
       "      <td>35.735970</td>\n",
       "      <td>1505 N Fayetteville St</td>\n",
       "      <td>NaN</td>\n",
       "      <td>Asheboro</td>\n",
       "      <td>NC</td>\n",
       "      <td>27203</td>\n",
       "      <td>3804.0</td>\n",
       "      <td>RANDOLPH</td>\n",
       "      <td>NaN</td>\n",
       "    </tr>\n",
       "    <tr>\n",
       "      <th>3</th>\n",
       "      <td>MORVEN TRUCK STOP</td>\n",
       "      <td>-80.011215</td>\n",
       "      <td>34.883118</td>\n",
       "      <td>6438 US Highway 52 S</td>\n",
       "      <td>NaN</td>\n",
       "      <td>Morven</td>\n",
       "      <td>NC</td>\n",
       "      <td>28119</td>\n",
       "      <td>8300.0</td>\n",
       "      <td>ANSON</td>\n",
       "      <td>NaN</td>\n",
       "    </tr>\n",
       "    <tr>\n",
       "      <th>4</th>\n",
       "      <td>GREENHILL STORE</td>\n",
       "      <td>-82.044556</td>\n",
       "      <td>35.411030</td>\n",
       "      <td>2751 HWY 64/74 A WEST</td>\n",
       "      <td>NaN</td>\n",
       "      <td>RUTHERFORDTON</td>\n",
       "      <td>NC</td>\n",
       "      <td>28139</td>\n",
       "      <td>NaN</td>\n",
       "      <td>RUTHERFORD</td>\n",
       "      <td>NaN</td>\n",
       "    </tr>\n",
       "  </tbody>\n",
       "</table>\n",
       "</div>"
      ],
      "text/plain": [
       "           STORE_NAME  longitude   latitude                 ADDRESS ADDRESS2  \\\n",
       "0      Food Lion 2213 -80.865814  35.594765        516-10 RIVER HWY      NaN   \n",
       "1           FISH WING -80.882446  35.216393          1501 West Blvd    Ste G   \n",
       "2  SUPERIOR GROCERIES -79.808388  35.735970  1505 N Fayetteville St      NaN   \n",
       "3   MORVEN TRUCK STOP -80.011215  34.883118    6438 US Highway 52 S      NaN   \n",
       "4     GREENHILL STORE -82.044556  35.411030   2751 HWY 64/74 A WEST      NaN   \n",
       "\n",
       "            CITY STATE   ZIP5    zip4        County  Unnamed: 10  \n",
       "0    MOORESVILLE    NC  28117     NaN      IREDELL           NaN  \n",
       "1      Charlotte    NC  28208  7076.0  MECKLENBURG           NaN  \n",
       "2       Asheboro    NC  27203  3804.0     RANDOLPH           NaN  \n",
       "3         Morven    NC  28119  8300.0        ANSON           NaN  \n",
       "4  RUTHERFORDTON    NC  28139     NaN   RUTHERFORD           NaN  "
      ]
     },
     "execution_count": 3,
     "metadata": {},
     "output_type": "execute_result"
    }
   ],
   "source": [
    "# Get the table\n",
    "\n",
    "\n",
    "store_locator_file_raw = \"Resources/NC.csv\"\n",
    "# store_locator_file_raw = \"Resources/store_locations_2019_01_29.csv\"\n",
    "store_locator_file_df = pd.read_csv(store_locator_file_raw)\n",
    "store_locator_file_df.head()\n"
   ]
  },
  {
   "cell_type": "code",
   "execution_count": null,
   "metadata": {},
   "outputs": [],
   "source": []
  },
  {
   "cell_type": "code",
   "execution_count": 4,
   "metadata": {},
   "outputs": [],
   "source": [
    "pw = config.password\n",
    "connection_string = (\"root:\" + pw + \"@localhost/snap_db\")\n",
    "\n",
    "engine = create_engine(f'mysql://{connection_string}')\n",
    "# print(connection_string)"
   ]
  },
  {
   "cell_type": "code",
   "execution_count": 5,
   "metadata": {},
   "outputs": [],
   "source": [
    "store_locator_file_df.to_sql(name='store_locator', con=engine, if_exists='replace', index=False)"
   ]
  }
 ],
 "metadata": {
  "kernelspec": {
   "display_name": "Python 3",
   "language": "python",
   "name": "python3"
  },
  "language_info": {
   "codemirror_mode": {
    "name": "ipython",
    "version": 3
   },
   "file_extension": ".py",
   "mimetype": "text/x-python",
   "name": "python",
   "nbconvert_exporter": "python",
   "pygments_lexer": "ipython3",
   "version": "3.6.6"
  }
 },
 "nbformat": 4,
 "nbformat_minor": 2
}
